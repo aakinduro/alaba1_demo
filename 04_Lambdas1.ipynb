{
  "nbformat": 4,
  "nbformat_minor": 0,
  "metadata": {
    "colab": {
      "name": "04_Lambdas1.ipynb",
      "provenance": [],
      "authorship_tag": "ABX9TyODEQC0TqS9+ZAl04l/mr1Z",
      "include_colab_link": true
    },
    "kernelspec": {
      "name": "python3",
      "display_name": "Python 3"
    },
    "language_info": {
      "name": "python"
    }
  },
  "cells": [
    {
      "cell_type": "markdown",
      "metadata": {
        "id": "view-in-github",
        "colab_type": "text"
      },
      "source": [
        "<a href=\"https://colab.research.google.com/github/aakinduro/alaba1_demo/blob/main/04_Lambdas1.ipynb\" target=\"_parent\"><img src=\"https://colab.research.google.com/assets/colab-badge.svg\" alt=\"Open In Colab\"/></a>"
      ]
    },
    {
      "cell_type": "code",
      "metadata": {
        "id": "-CNmdZFhoQp8"
      },
      "source": [
        "nums = range(10)\n",
        "cities = ['Bengaluru', 'London', 'York', 'Manchester', 'Newcastle', 'Delhi', 'Mumbai', 'Cairo', 'Cape Town', 'Nairobi']\n",
        "data = {'column1': nums,'cities': cities}"
      ],
      "execution_count": 4,
      "outputs": []
    },
    {
      "cell_type": "code",
      "metadata": {
        "id": "xDj21k5Ro5jM"
      },
      "source": [
        "import pandas as pd\n",
        "df = pd.DataFrame(data)"
      ],
      "execution_count": 8,
      "outputs": []
    },
    {
      "cell_type": "code",
      "metadata": {
        "id": "EkoKXKhDrrCw"
      },
      "source": [
        "# SYNTAX\n",
        "# lambda input_variable : what_to_do_with_the_input_variable\n",
        "mylambda = lambda myvar : myvar*2"
      ],
      "execution_count": 10,
      "outputs": []
    },
    {
      "cell_type": "code",
      "metadata": {
        "colab": {
          "base_uri": "https://localhost:8080/"
        },
        "id": "Ze7XmoKVr0IY",
        "outputId": "4f825c1d-5467-4076-9eaf-0b568c0d858e"
      },
      "source": [
        "mylambda(42)"
      ],
      "execution_count": 11,
      "outputs": [
        {
          "output_type": "execute_result",
          "data": {
            "text/plain": [
              "84"
            ]
          },
          "metadata": {},
          "execution_count": 11
        }
      ]
    },
    {
      "cell_type": "code",
      "metadata": {
        "id": "TOBSJfQGr6Df"
      },
      "source": [
        "# Superpower-> reusability \n",
        "def randompower(pow):\n",
        "  return lambda n: n**pow\n",
        "# ACCEPTING 2 variables, and returning a lambda consisting of 2 \n",
        "# variables-> one initialized by function, and other by the user!"
      ],
      "execution_count": 12,
      "outputs": []
    },
    {
      "cell_type": "code",
      "metadata": {
        "id": "1Aq60HbvsAOB"
      },
      "source": [
        "square = randompower(2) # this changes-> lambda n,2: n**2\n",
        "cube = randompower(3) # this changes-> lambda n,3 : n**3"
      ],
      "execution_count": 13,
      "outputs": []
    },
    {
      "cell_type": "code",
      "metadata": {
        "colab": {
          "base_uri": "https://localhost:8080/"
        },
        "id": "y8roLJqXsFwd",
        "outputId": "96e33a07-ab28-419c-d589-e8a3514a3855"
      },
      "source": [
        "square(9)"
      ],
      "execution_count": 14,
      "outputs": [
        {
          "output_type": "execute_result",
          "data": {
            "text/plain": [
              "81"
            ]
          },
          "metadata": {},
          "execution_count": 14
        }
      ]
    },
    {
      "cell_type": "code",
      "metadata": {
        "colab": {
          "base_uri": "https://localhost:8080/"
        },
        "id": "n6C6EqknsKVS",
        "outputId": "64500b88-d2c2-4bcd-c4a8-3ce5fc538665"
      },
      "source": [
        "cube(8)"
      ],
      "execution_count": 15,
      "outputs": [
        {
          "output_type": "execute_result",
          "data": {
            "text/plain": [
              "512"
            ]
          },
          "metadata": {},
          "execution_count": 15
        }
      ]
    },
    {
      "cell_type": "code",
      "metadata": {
        "id": "iQj0TR4RsPDm"
      },
      "source": [
        "# Transformation\n",
        "counter = 0\n",
        "city_dictionary = {}\n",
        "for city in cities:\n",
        "  city_dictionary[city] = counter # London = 1\n",
        "  counter = counter+1 # for next city, incrementing the counter"
      ],
      "execution_count": 16,
      "outputs": []
    },
    {
      "cell_type": "code",
      "metadata": {
        "colab": {
          "base_uri": "https://localhost:8080/"
        },
        "id": "vmXa8xwnsT1v",
        "outputId": "3c0daba5-9af6-4980-9a35-6311a61702c1"
      },
      "source": [
        "city_dictionary"
      ],
      "execution_count": 17,
      "outputs": [
        {
          "output_type": "execute_result",
          "data": {
            "text/plain": [
              "{'Bengaluru': 0,\n",
              " 'Cairo': 7,\n",
              " 'Cape Town': 8,\n",
              " 'Delhi': 5,\n",
              " 'London': 1,\n",
              " 'Manchester': 3,\n",
              " 'Mumbai': 6,\n",
              " 'Nairobi': 9,\n",
              " 'Newcastle': 4,\n",
              " 'York': 2}"
            ]
          },
          "metadata": {},
          "execution_count": 17
        }
      ]
    },
    {
      "cell_type": "code",
      "metadata": {
        "colab": {
          "base_uri": "https://localhost:8080/",
          "height": 204
        },
        "id": "brbmaGUFsZ3U",
        "outputId": "5d523032-9e6f-4aaa-bc21-f5add27524a9"
      },
      "source": [
        "# WE COULD WRITE A LAMBDA FUNCTION TO TRANSFORM CITY \n",
        "# NAMES INTO NUMBERS!\n",
        "df.head()"
      ],
      "execution_count": 18,
      "outputs": [
        {
          "output_type": "execute_result",
          "data": {
            "text/html": [
              "<div>\n",
              "<style scoped>\n",
              "    .dataframe tbody tr th:only-of-type {\n",
              "        vertical-align: middle;\n",
              "    }\n",
              "\n",
              "    .dataframe tbody tr th {\n",
              "        vertical-align: top;\n",
              "    }\n",
              "\n",
              "    .dataframe thead th {\n",
              "        text-align: right;\n",
              "    }\n",
              "</style>\n",
              "<table border=\"1\" class=\"dataframe\">\n",
              "  <thead>\n",
              "    <tr style=\"text-align: right;\">\n",
              "      <th></th>\n",
              "      <th>column1</th>\n",
              "      <th>cities</th>\n",
              "    </tr>\n",
              "  </thead>\n",
              "  <tbody>\n",
              "    <tr>\n",
              "      <th>0</th>\n",
              "      <td>0</td>\n",
              "      <td>Bengaluru</td>\n",
              "    </tr>\n",
              "    <tr>\n",
              "      <th>1</th>\n",
              "      <td>1</td>\n",
              "      <td>London</td>\n",
              "    </tr>\n",
              "    <tr>\n",
              "      <th>2</th>\n",
              "      <td>2</td>\n",
              "      <td>York</td>\n",
              "    </tr>\n",
              "    <tr>\n",
              "      <th>3</th>\n",
              "      <td>3</td>\n",
              "      <td>Manchester</td>\n",
              "    </tr>\n",
              "    <tr>\n",
              "      <th>4</th>\n",
              "      <td>4</td>\n",
              "      <td>Newcastle</td>\n",
              "    </tr>\n",
              "  </tbody>\n",
              "</table>\n",
              "</div>"
            ],
            "text/plain": [
              "   column1      cities\n",
              "0        0   Bengaluru\n",
              "1        1      London\n",
              "2        2        York\n",
              "3        3  Manchester\n",
              "4        4   Newcastle"
            ]
          },
          "metadata": {},
          "execution_count": 18
        }
      ]
    },
    {
      "cell_type": "code",
      "metadata": {
        "id": "QziDVbOZsgEk"
      },
      "source": [
        "citynum = lambda city_name: city_dictionary[city_name]\n",
        "df['cities_encoded'] = df['cities'].map(citynum)"
      ],
      "execution_count": 19,
      "outputs": []
    },
    {
      "cell_type": "code",
      "metadata": {
        "colab": {
          "base_uri": "https://localhost:8080/",
          "height": 359
        },
        "id": "WEgdSJ3Osjsl",
        "outputId": "7ebe3e34-4926-45b8-ac1b-21890f87c07a"
      },
      "source": [
        "df.head(10)"
      ],
      "execution_count": 20,
      "outputs": [
        {
          "output_type": "execute_result",
          "data": {
            "text/html": [
              "<div>\n",
              "<style scoped>\n",
              "    .dataframe tbody tr th:only-of-type {\n",
              "        vertical-align: middle;\n",
              "    }\n",
              "\n",
              "    .dataframe tbody tr th {\n",
              "        vertical-align: top;\n",
              "    }\n",
              "\n",
              "    .dataframe thead th {\n",
              "        text-align: right;\n",
              "    }\n",
              "</style>\n",
              "<table border=\"1\" class=\"dataframe\">\n",
              "  <thead>\n",
              "    <tr style=\"text-align: right;\">\n",
              "      <th></th>\n",
              "      <th>column1</th>\n",
              "      <th>cities</th>\n",
              "      <th>cities_encoded</th>\n",
              "    </tr>\n",
              "  </thead>\n",
              "  <tbody>\n",
              "    <tr>\n",
              "      <th>0</th>\n",
              "      <td>0</td>\n",
              "      <td>Bengaluru</td>\n",
              "      <td>0</td>\n",
              "    </tr>\n",
              "    <tr>\n",
              "      <th>1</th>\n",
              "      <td>1</td>\n",
              "      <td>London</td>\n",
              "      <td>1</td>\n",
              "    </tr>\n",
              "    <tr>\n",
              "      <th>2</th>\n",
              "      <td>2</td>\n",
              "      <td>York</td>\n",
              "      <td>2</td>\n",
              "    </tr>\n",
              "    <tr>\n",
              "      <th>3</th>\n",
              "      <td>3</td>\n",
              "      <td>Manchester</td>\n",
              "      <td>3</td>\n",
              "    </tr>\n",
              "    <tr>\n",
              "      <th>4</th>\n",
              "      <td>4</td>\n",
              "      <td>Newcastle</td>\n",
              "      <td>4</td>\n",
              "    </tr>\n",
              "    <tr>\n",
              "      <th>5</th>\n",
              "      <td>5</td>\n",
              "      <td>Delhi</td>\n",
              "      <td>5</td>\n",
              "    </tr>\n",
              "    <tr>\n",
              "      <th>6</th>\n",
              "      <td>6</td>\n",
              "      <td>Mumbai</td>\n",
              "      <td>6</td>\n",
              "    </tr>\n",
              "    <tr>\n",
              "      <th>7</th>\n",
              "      <td>7</td>\n",
              "      <td>Cairo</td>\n",
              "      <td>7</td>\n",
              "    </tr>\n",
              "    <tr>\n",
              "      <th>8</th>\n",
              "      <td>8</td>\n",
              "      <td>Cape Town</td>\n",
              "      <td>8</td>\n",
              "    </tr>\n",
              "    <tr>\n",
              "      <th>9</th>\n",
              "      <td>9</td>\n",
              "      <td>Nairobi</td>\n",
              "      <td>9</td>\n",
              "    </tr>\n",
              "  </tbody>\n",
              "</table>\n",
              "</div>"
            ],
            "text/plain": [
              "   column1      cities  cities_encoded\n",
              "0        0   Bengaluru               0\n",
              "1        1      London               1\n",
              "2        2        York               2\n",
              "3        3  Manchester               3\n",
              "4        4   Newcastle               4\n",
              "5        5       Delhi               5\n",
              "6        6      Mumbai               6\n",
              "7        7       Cairo               7\n",
              "8        8   Cape Town               8\n",
              "9        9     Nairobi               9"
            ]
          },
          "metadata": {},
          "execution_count": 20
        }
      ]
    }
  ]
}
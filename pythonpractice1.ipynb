{
  "nbformat": 4,
  "nbformat_minor": 0,
  "metadata": {
    "colab": {
      "name": "pythonpractice1.ipynb",
      "provenance": [],
      "authorship_tag": "ABX9TyPRMDGKSWoh4iAcAyZDCO6/",
      "include_colab_link": true
    },
    "kernelspec": {
      "name": "python3",
      "display_name": "Python 3"
    },
    "language_info": {
      "name": "python"
    }
  },
  "cells": [
    {
      "cell_type": "markdown",
      "metadata": {
        "id": "view-in-github",
        "colab_type": "text"
      },
      "source": [
        "<a href=\"https://colab.research.google.com/github/aakinduro/alaba1_demo/blob/main/pythonpractice1.ipynb\" target=\"_parent\"><img src=\"https://colab.research.google.com/assets/colab-badge.svg\" alt=\"Open In Colab\"/></a>"
      ]
    },
    {
      "cell_type": "code",
      "metadata": {
        "colab": {
          "base_uri": "https://localhost:8080/"
        },
        "id": "pEgRbzUnnNzo",
        "outputId": "aa0e6932-6998-424a-ead0-424c29bce2fd"
      },
      "source": [
        "print(5)\n",
        "print(5.0)\n",
        "print(\"5\")\n",
        "print(True)\n",
        "print([\"Lovers\", \"Haters\", \"Needers\"])"
      ],
      "execution_count": 1,
      "outputs": [
        {
          "output_type": "stream",
          "name": "stdout",
          "text": [
            "5\n",
            "5.0\n",
            "5\n",
            "True\n",
            "['Lovers', 'Haters', 'Needers']\n"
          ]
        }
      ]
    },
    {
      "cell_type": "code",
      "metadata": {
        "colab": {
          "base_uri": "https://localhost:8080/"
        },
        "id": "cT-qh8cinYZJ",
        "outputId": "732a2b23-f014-4ece-cca6-8c8c62db1f1c"
      },
      "source": [
        "print(type(5))\n",
        "print(type(5.0))\n",
        "print(type(\"5\"))\n",
        "print(type(True))\n",
        "print(type([\"Lovers\", \"Haters\", \"Needers\"]))"
      ],
      "execution_count": 2,
      "outputs": [
        {
          "output_type": "stream",
          "name": "stdout",
          "text": [
            "<class 'int'>\n",
            "<class 'float'>\n",
            "<class 'str'>\n",
            "<class 'bool'>\n",
            "<class 'list'>\n"
          ]
        }
      ]
    },
    {
      "cell_type": "code",
      "metadata": {
        "colab": {
          "base_uri": "https://localhost:8080/"
        },
        "id": "vUqfUEr5niet",
        "outputId": "72437e4f-0e2e-472f-ffcd-1365122bff9d"
      },
      "source": [
        "name = 'Kofi'\n",
        "age = 41\n",
        "height = 1.82\n",
        "hobbies = [\"Artificial Intelligence\", \"Gaming\", \"Functional Medicine\"]\n",
        "is_alive = True\n",
        "\n",
        "fmesg = f\"{name} is {age} and {height * 100} cm\" # formatted string\n",
        "\n",
        "print(name, age, height)  # print with multiple args = spaced output\n",
        "print(hobbies)\n",
        "print(is_alive)\n",
        "\n",
        "\n",
        "print(fmesg)"
      ],
      "execution_count": 3,
      "outputs": [
        {
          "output_type": "stream",
          "name": "stdout",
          "text": [
            "Kofi 41 1.82\n",
            "['Artificial Intelligence', 'Gaming', 'Functional Medicine']\n",
            "True\n",
            "Kofi is 41 and 182.0 cm\n"
          ]
        }
      ]
    },
    {
      "cell_type": "code",
      "metadata": {
        "colab": {
          "base_uri": "https://localhost:8080/"
        },
        "id": "h3afYr3rnpoF",
        "outputId": "bbacc87c-7251-4926-f700-410cd3de60f9"
      },
      "source": [
        "age += 1\n",
        "\n",
        "age   # the last line of a jupyter cell is always printed"
      ],
      "execution_count": 4,
      "outputs": [
        {
          "output_type": "execute_result",
          "data": {
            "text/plain": [
              "42"
            ]
          },
          "metadata": {},
          "execution_count": 4
        }
      ]
    },
    {
      "cell_type": "code",
      "metadata": {
        "colab": {
          "base_uri": "https://localhost:8080/"
        },
        "id": "0kDMf2Jynw9l",
        "outputId": "e77790ca-4041-4c62-a084-9d3b5a880ccf"
      },
      "source": [
        "print( \"Kofi \" + \"Glover\")\n",
        "print( 2 ** 3 )    # 2 * 2 * 2 = 2^3\n",
        "print( \"-\" * 3 )\n",
        "print( \"@\" in \"kofi.glover@qa.com\")\n",
        "print( True and False )\n",
        "print( [\"Cake\", \"Cream\"] + [\"Flour\", \"Sugar\"] )\n",
        "print( 1.14 <=  2.13 )"
      ],
      "execution_count": 5,
      "outputs": [
        {
          "output_type": "stream",
          "name": "stdout",
          "text": [
            "Kofi Glover\n",
            "8\n",
            "---\n",
            "True\n",
            "False\n",
            "['Cake', 'Cream', 'Flour', 'Sugar']\n",
            "True\n"
          ]
        }
      ]
    },
    {
      "cell_type": "code",
      "metadata": {
        "id": "PRKglSNOnz6K"
      },
      "source": [
        "michael_bp = 175\n",
        "alice_bp = 175\n",
        "eve_bp = 140"
      ],
      "execution_count": 7,
      "outputs": []
    },
    {
      "cell_type": "code",
      "metadata": {
        "colab": {
          "base_uri": "https://localhost:8080/"
        },
        "id": "a3G5FCSUoRd6",
        "outputId": "f975f80c-0faa-4e6a-aa5a-8d40fd4a5ed0"
      },
      "source": [
        "michael_bp == alice_bp"
      ],
      "execution_count": 9,
      "outputs": [
        {
          "output_type": "execute_result",
          "data": {
            "text/plain": [
              "True"
            ]
          },
          "metadata": {},
          "execution_count": 9
        }
      ]
    },
    {
      "cell_type": "code",
      "metadata": {
        "colab": {
          "base_uri": "https://localhost:8080/"
        },
        "id": "ML552p5roUm2",
        "outputId": "db5e8345-11bb-438a-d079-ab12544c44b4"
      },
      "source": [
        "michael_bp != alice_bp"
      ],
      "execution_count": 10,
      "outputs": [
        {
          "output_type": "execute_result",
          "data": {
            "text/plain": [
              "False"
            ]
          },
          "metadata": {},
          "execution_count": 10
        }
      ]
    },
    {
      "cell_type": "code",
      "metadata": {
        "colab": {
          "base_uri": "https://localhost:8080/"
        },
        "id": "KRuNXlhgojcr",
        "outputId": "99c92933-1dbd-464a-f899-f49224304f46"
      },
      "source": [
        "michael_bp != eve_bp"
      ],
      "execution_count": 11,
      "outputs": [
        {
          "output_type": "execute_result",
          "data": {
            "text/plain": [
              "True"
            ]
          },
          "metadata": {},
          "execution_count": 11
        }
      ]
    },
    {
      "cell_type": "code",
      "metadata": {
        "colab": {
          "base_uri": "https://localhost:8080/"
        },
        "id": "ixdBsicuooO6",
        "outputId": "83b02517-df58-4dce-c9ec-fb848cb8b256"
      },
      "source": [
        "michael_bp >= eve_bp"
      ],
      "execution_count": 12,
      "outputs": [
        {
          "output_type": "execute_result",
          "data": {
            "text/plain": [
              "True"
            ]
          },
          "metadata": {},
          "execution_count": 12
        }
      ]
    },
    {
      "cell_type": "code",
      "metadata": {
        "colab": {
          "base_uri": "https://localhost:8080/"
        },
        "id": "W9EmGgxi7gsc",
        "outputId": "e114c6a0-efec-4818-8465-1abb9cd878a3"
      },
      "source": [
        "(\"WARNING\" in message) and (michael_bp >= eve_bp)"
      ],
      "execution_count": 15,
      "outputs": [
        {
          "output_type": "execute_result",
          "data": {
            "text/plain": [
              "True"
            ]
          },
          "metadata": {},
          "execution_count": 15
        }
      ]
    },
    {
      "cell_type": "code",
      "metadata": {
        "id": "-kGs3MR97tYK"
      },
      "source": [
        "safe_max = 150\n",
        "safe_min = 80"
      ],
      "execution_count": 17,
      "outputs": []
    },
    {
      "cell_type": "code",
      "metadata": {
        "colab": {
          "base_uri": "https://localhost:8080/"
        },
        "id": "p_UMTL3D744r",
        "outputId": "1c0d7fb3-0f34-4748-8830-239a41550c73"
      },
      "source": [
        "michael_bp < safe_max"
      ],
      "execution_count": 18,
      "outputs": [
        {
          "output_type": "execute_result",
          "data": {
            "text/plain": [
              "False"
            ]
          },
          "metadata": {},
          "execution_count": 18
        }
      ]
    },
    {
      "cell_type": "code",
      "metadata": {
        "colab": {
          "base_uri": "https://localhost:8080/"
        },
        "id": "Z2tbUaAe8B94",
        "outputId": "6aff6ed0-d336-426e-9262-3ffa59ea46e1"
      },
      "source": [
        "eve_bp < safe_max"
      ],
      "execution_count": 19,
      "outputs": [
        {
          "output_type": "execute_result",
          "data": {
            "text/plain": [
              "True"
            ]
          },
          "metadata": {},
          "execution_count": 19
        }
      ]
    },
    {
      "cell_type": "code",
      "metadata": {
        "colab": {
          "base_uri": "https://localhost:8080/"
        },
        "id": "RyCc-2pq8I0p",
        "outputId": "0ce4249b-edf3-490d-b001-c5a31988d3d6"
      },
      "source": [
        "eve_bp < safe_max"
      ],
      "execution_count": 20,
      "outputs": [
        {
          "output_type": "execute_result",
          "data": {
            "text/plain": [
              "True"
            ]
          },
          "metadata": {},
          "execution_count": 20
        }
      ]
    },
    {
      "cell_type": "code",
      "metadata": {
        "colab": {
          "base_uri": "https://localhost:8080/"
        },
        "id": "pUzNZFmu8Yxd",
        "outputId": "10781708-50bb-4764-f031-f9d7104b7ed8"
      },
      "source": [
        "(eve_bp < safe_max) or (michael_bp < safe_max)"
      ],
      "execution_count": 21,
      "outputs": [
        {
          "output_type": "execute_result",
          "data": {
            "text/plain": [
              "True"
            ]
          },
          "metadata": {},
          "execution_count": 21
        }
      ]
    },
    {
      "cell_type": "code",
      "metadata": {
        "colab": {
          "base_uri": "https://localhost:8080/"
        },
        "id": "Wo3oZFhA8azO",
        "outputId": "0fe32fbd-4634-44d8-c1ab-ea49ad1a03d5"
      },
      "source": [
        "not (\"WARNING\" in message)"
      ],
      "execution_count": 22,
      "outputs": [
        {
          "output_type": "execute_result",
          "data": {
            "text/plain": [
              "False"
            ]
          },
          "metadata": {},
          "execution_count": 22
        }
      ]
    },
    {
      "cell_type": "code",
      "metadata": {
        "colab": {
          "base_uri": "https://localhost:8080/"
        },
        "id": "b1Q3m4MX8rOa",
        "outputId": "c65ecb28-5ea1-473d-d7f2-a811400889a1"
      },
      "source": [
        "\"WARNING\" not in message"
      ],
      "execution_count": 23,
      "outputs": [
        {
          "output_type": "execute_result",
          "data": {
            "text/plain": [
              "False"
            ]
          },
          "metadata": {},
          "execution_count": 23
        }
      ]
    },
    {
      "cell_type": "code",
      "metadata": {
        "colab": {
          "base_uri": "https://localhost:8080/"
        },
        "id": "gXjweHt88tGY",
        "outputId": "7935fc6d-0fc0-426d-e115-c8dd45ed0c0e"
      },
      "source": [
        "if (\"WARNING\" in message) and (michael_bp > safe_max):\n",
        "    print(\"GO TO HOSPITAL\")\n",
        "else:\n",
        "    print(\"STAY AT HOME\")"
      ],
      "execution_count": 24,
      "outputs": [
        {
          "output_type": "stream",
          "name": "stdout",
          "text": [
            "GO TO HOSPITAL\n"
          ]
        }
      ]
    },
    {
      "cell_type": "code",
      "metadata": {
        "colab": {
          "base_uri": "https://localhost:8080/"
        },
        "id": "wJbc_G818zsW",
        "outputId": "f271becc-a6b4-4d96-8767-7906c67669a7"
      },
      "source": [
        "if (\"WARNING\" in message) and (michael_bp > safe_max):\n",
        "    print(\"GO TO HOSPITAL\")\n",
        "else:\n",
        "    print(\"STAY AT HOME\")"
      ],
      "execution_count": 25,
      "outputs": [
        {
          "output_type": "stream",
          "name": "stdout",
          "text": [
            "GO TO HOSPITAL\n"
          ]
        }
      ]
    },
    {
      "cell_type": "code",
      "metadata": {
        "colab": {
          "base_uri": "https://localhost:8080/"
        },
        "id": "p5CSJ6Hj8_e7",
        "outputId": "845f05d6-cc0b-40be-8d04-2e3266a58908"
      },
      "source": [
        "\n",
        "name = \"Kofi\"\n",
        "\n",
        "print(name)          # output the value of name\n",
        "print( id(name) )    # output the memory location of the value of name\n",
        "print( type(name) )  # output the type of the value of name\n",
        "print( len(name) )   # output the length of (the value of) name "
      ],
      "execution_count": 26,
      "outputs": [
        {
          "output_type": "stream",
          "name": "stdout",
          "text": [
            "Kofi\n",
            "139867369087344\n",
            "<class 'str'>\n",
            "4\n"
          ]
        }
      ]
    },
    {
      "cell_type": "code",
      "metadata": {
        "colab": {
          "base_uri": "https://localhost:8080/"
        },
        "id": "_Wv8LWMO9Fu4",
        "outputId": "3bcb446c-209e-449b-a4d7-5a9853a13ce5"
      },
      "source": [
        "# data.operation(requirements)\n",
        "# obj.method(parameters)\n",
        "# ask name to upper() itself \n",
        "# ask name if it startswith(M)\n",
        "\n",
        "print( name.upper()  )\n",
        "print( name.lower()   )\n",
        "print( name.startswith(\"K\") )\n",
        "print( name.endswith(\"K\") )\n",
        "\n",
        "# all data in python is an object\n",
        "# objects are data structures:  values (properties), types (class), id, methods"
      ],
      "execution_count": 27,
      "outputs": [
        {
          "output_type": "stream",
          "name": "stdout",
          "text": [
            "KOFI\n",
            "kofi\n",
            "True\n",
            "False\n"
          ]
        }
      ]
    },
    {
      "cell_type": "code",
      "metadata": {
        "colab": {
          "base_uri": "https://localhost:8080/"
        },
        "id": "37Zc6riE9VmH",
        "outputId": "e76805b0-e7e3-453f-da19-5d82a7dc2175"
      },
      "source": [
        "dir(name)[-5:] # lists the last 5 attributes & methods of the object"
      ],
      "execution_count": 28,
      "outputs": [
        {
          "output_type": "execute_result",
          "data": {
            "text/plain": [
              "['swapcase', 'title', 'translate', 'upper', 'zfill']"
            ]
          },
          "metadata": {},
          "execution_count": 28
        }
      ]
    },
    {
      "cell_type": "code",
      "metadata": {
        "colab": {
          "base_uri": "https://localhost:8080/"
        },
        "id": "WFeAnSFe-hhY",
        "outputId": "cef9aade-9c31-4c25-e825-672a15da47c0"
      },
      "source": [
        "def error(pred, obv):\n",
        "    return (pred - obv) ** 2\n",
        "\n",
        "error(3, 3.3)"
      ],
      "execution_count": 29,
      "outputs": [
        {
          "output_type": "execute_result",
          "data": {
            "text/plain": [
              "0.0899999999999999"
            ]
          },
          "metadata": {},
          "execution_count": 29
        }
      ]
    },
    {
      "cell_type": "code",
      "metadata": {
        "colab": {
          "base_uri": "https://localhost:8080/"
        },
        "id": "PkBYROh6-7d-",
        "outputId": "088a62c9-c2e8-4c82-8648-f2cc484f3607"
      },
      "source": [
        "help(predict)"
      ],
      "execution_count": 33,
      "outputs": [
        {
          "output_type": "stream",
          "name": "stdout",
          "text": [
            "Help on function predict in module __main__:\n",
            "\n",
            "predict(age, height, parameters=(0.5, 0.5, 0))\n",
            "    Predict a weight (kg) from an age (yr), height (cm) and\n",
            "        parameters :\n",
            "            (age importance, height importance, base weight)\n",
            "\n"
          ]
        }
      ]
    },
    {
      "cell_type": "code",
      "metadata": {
        "colab": {
          "base_uri": "https://localhost:8080/"
        },
        "id": "bWymGwll_JFf",
        "outputId": "7627f70e-1d61-4677-b714-4bd87d840d57"
      },
      "source": [
        "predict(10, 150, (0.6, 0.4, 0.2)) # pass arguments by position"
      ],
      "execution_count": 34,
      "outputs": [
        {
          "output_type": "execute_result",
          "data": {
            "text/plain": [
              "56.0"
            ]
          },
          "metadata": {},
          "execution_count": 34
        }
      ]
    },
    {
      "cell_type": "code",
      "metadata": {
        "colab": {
          "base_uri": "https://localhost:8080/"
        },
        "id": "dYsl7ija_R9P",
        "outputId": "82bb0f27-69da-4107-b093-cd7951b6878a"
      },
      "source": [
        "predict(10, 150) # pass arguments by position, one by default"
      ],
      "execution_count": 35,
      "outputs": [
        {
          "output_type": "execute_result",
          "data": {
            "text/plain": [
              "42.5"
            ]
          },
          "metadata": {},
          "execution_count": 35
        }
      ]
    },
    {
      "cell_type": "code",
      "metadata": {
        "colab": {
          "base_uri": "https://localhost:8080/"
        },
        "id": "RX8ogdSx_elQ",
        "outputId": "d4401ac3-bf77-4247-fb68-5fd2bde1d35d"
      },
      "source": [
        "predict(age=10, height=150) # pass by name"
      ],
      "execution_count": 36,
      "outputs": [
        {
          "output_type": "execute_result",
          "data": {
            "text/plain": [
              "42.5"
            ]
          },
          "metadata": {},
          "execution_count": 36
        }
      ]
    },
    {
      "cell_type": "code",
      "metadata": {
        "colab": {
          "base_uri": "https://localhost:8080/"
        },
        "id": "rrfVaS2F_hLQ",
        "outputId": "feb9d7a5-a7a7-469b-b6b5-1f0466ac4fa7"
      },
      "source": [
        "# functions = procedures\n",
        "# can also not return anything\n",
        "\n",
        "def show_results(results):\n",
        "    print(\"-\" * 10)\n",
        "    print(results)\n",
        "    print(\"-\" * 10)\n",
        "    \n",
        "show_results([12, 12, 15])   # writes to screen, but has no return value\n",
        "\n",
        "def distance(x1, x2):\n",
        "    return (x2 - x1) ** 2   # euclidean distance, aka. L2 norm\n",
        "    \n",
        "\n",
        "dist = distance(10, 12)\n",
        "print(dist * 1.1)  # calculated value can be stored in variable\n",
        "\n",
        "\n",
        "rtn = show_results([10, 12])\n",
        "\n",
        "print(type(rtn))\n",
        "print(rtn) # nothing is stored here, no return value"
      ],
      "execution_count": 37,
      "outputs": [
        {
          "output_type": "stream",
          "name": "stdout",
          "text": [
            "----------\n",
            "[12, 12, 15]\n",
            "----------\n",
            "4.4\n",
            "----------\n",
            "[10, 12]\n",
            "----------\n",
            "<class 'NoneType'>\n",
            "None\n"
          ]
        }
      ]
    },
    {
      "cell_type": "code",
      "metadata": {
        "colab": {
          "base_uri": "https://localhost:8080/"
        },
        "id": "wjNrilIh_8Nn",
        "outputId": "9c563a0e-f241-42ec-a878-38fec5152c9f"
      },
      "source": [
        "def mean(x, y, z):\n",
        "    return (x + y + z)/3\n",
        "\n",
        "def cube(x):\n",
        "    return x ** 3\n",
        "\n",
        "def is_adult(age):\n",
        "    return age >= 18\n",
        "\n",
        "\n",
        "def show(m, c, a):\n",
        "    print(\"mean:\", m)\n",
        "    print(\"cube:\", c)\n",
        "    print(\"age:\", a)\n",
        "    \n",
        "mean_ages = mean(18,18,20)\n",
        "two_late = cube(2)\n",
        "teen = is_adult(15)\n",
        "\n",
        "show(mean_ages, two_late, teen)"
      ],
      "execution_count": 38,
      "outputs": [
        {
          "output_type": "stream",
          "name": "stdout",
          "text": [
            "mean: 18.666666666666668\n",
            "cube: 8\n",
            "age: False\n"
          ]
        }
      ]
    },
    {
      "cell_type": "code",
      "metadata": {
        "colab": {
          "base_uri": "https://localhost:8080/"
        },
        "id": "vda3h6FzABho",
        "outputId": "8d0f701b-dfdf-450c-c7c3-b1ef8dcc82fe"
      },
      "source": [
        "# strings\n",
        "\n",
        "quote = \"Be the change you wish to see in the world!\"\n",
        "\n",
        "print( quote[0] )   # first\n",
        "print( quote[1] )   # second\n",
        "print( quote[-2] )  # second from last\n",
        "print( quote[-1] )  # last"
      ],
      "execution_count": 39,
      "outputs": [
        {
          "output_type": "stream",
          "name": "stdout",
          "text": [
            "B\n",
            "e\n",
            "d\n",
            "!\n"
          ]
        }
      ]
    },
    {
      "cell_type": "code",
      "metadata": {
        "colab": {
          "base_uri": "https://localhost:8080/"
        },
        "id": "x1EF_AY5AJym",
        "outputId": "f5281919-0393-44e1-d44f-33942469e630"
      },
      "source": [
        "print( quote[0:2] )  # zero until postn-2"
      ],
      "execution_count": 40,
      "outputs": [
        {
          "output_type": "stream",
          "name": "stdout",
          "text": [
            "Be\n"
          ]
        }
      ]
    },
    {
      "cell_type": "code",
      "metadata": {
        "colab": {
          "base_uri": "https://localhost:8080/"
        },
        "id": "iQi70aOGDAqJ",
        "outputId": "236e12fe-19d4-4dbd-fc11-395d3a42c4e8"
      },
      "source": [
        "print( quote[0:2] )  # zero until postn-2"
      ],
      "execution_count": 41,
      "outputs": [
        {
          "output_type": "stream",
          "name": "stdout",
          "text": [
            "Be\n"
          ]
        }
      ]
    },
    {
      "cell_type": "code",
      "metadata": {
        "colab": {
          "base_uri": "https://localhost:8080/"
        },
        "id": "xYPKkynCDVK6",
        "outputId": "7bf0959d-e2a2-4b19-c0e9-25a0e0654fe5"
      },
      "source": [
        "print( quote[0:-6] ) # beginning until -6th postn"
      ],
      "execution_count": 43,
      "outputs": [
        {
          "output_type": "stream",
          "name": "stdout",
          "text": [
            "Be the change you wish to see in the \n"
          ]
        }
      ]
    },
    {
      "cell_type": "code",
      "metadata": {
        "colab": {
          "base_uri": "https://localhost:8080/"
        },
        "id": "K-PsfsbqDpJV",
        "outputId": "666b4372-fe18-4a7d-bba5-551f713d6c61"
      },
      "source": [
        "print( quote[0:-6]  + \" bed\" )"
      ],
      "execution_count": 44,
      "outputs": [
        {
          "output_type": "stream",
          "name": "stdout",
          "text": [
            "Be the change you wish to see in the  bed\n"
          ]
        }
      ]
    },
    {
      "cell_type": "code",
      "metadata": {
        "colab": {
          "base_uri": "https://localhost:8080/"
        },
        "id": "a01np67TD1v6",
        "outputId": "b4c31b61-ce77-444b-e1a3-9c2832b6599f"
      },
      "source": [
        "print(quote[:2])    # leave off start postn = zero\n",
        "print(quote[-6:] )  # leave off end postn = end of string"
      ],
      "execution_count": 45,
      "outputs": [
        {
          "output_type": "stream",
          "name": "stdout",
          "text": [
            "Be\n",
            "world!\n"
          ]
        }
      ]
    },
    {
      "cell_type": "code",
      "metadata": {
        "colab": {
          "base_uri": "https://localhost:8080/"
        },
        "id": "eQLJZPvwD4mp",
        "outputId": "39bbe9b3-ca1b-4d67-ad5d-441e29b161ed"
      },
      "source": [
        "# tuple\n",
        "\n",
        "point = (10, 20, 30)\n",
        "\n",
        "print( point[0] )\n",
        "print( point[1] )\n",
        "print( point[-1] )\n",
        "\n",
        "print( point[0:2] ) #slice, as with strings\n",
        "\n",
        "# point[0] = 15 # error: not allowed to overwrite\n",
        "\n",
        "# technically, () not required...\n",
        "\n",
        "address = \"OldSt\", \"London\"\n",
        "\n",
        "print(address)"
      ],
      "execution_count": 46,
      "outputs": [
        {
          "output_type": "stream",
          "name": "stdout",
          "text": [
            "10\n",
            "20\n",
            "30\n",
            "(10, 20)\n",
            "('OldSt', 'London')\n"
          ]
        }
      ]
    },
    {
      "cell_type": "code",
      "metadata": {
        "colab": {
          "base_uri": "https://localhost:8080/"
        },
        "id": "GqeIP9gOEDv5",
        "outputId": "469a9204-6882-48f6-aae8-e51da1cb59f0"
      },
      "source": [
        "# lists\n",
        "# y target customer satisfaction\n",
        "# x customer features \n",
        "# (days-since-first-purchase, total-spent, nearest-store, addresss)\n",
        "#  \n",
        "\n",
        "x = [300, 1000, \"London\", (\"Old Street\", \"London\")]\n",
        "\n",
        "print(x)\n",
        "print(len(x))\n",
        "\n",
        "print(x[-1])\n",
        "print(len(x[-1]))"
      ],
      "execution_count": 47,
      "outputs": [
        {
          "output_type": "stream",
          "name": "stdout",
          "text": [
            "[300, 1000, 'London', ('Old Street', 'London')]\n",
            "4\n",
            "('Old Street', 'London')\n",
            "2\n"
          ]
        }
      ]
    },
    {
      "cell_type": "code",
      "metadata": {
        "colab": {
          "base_uri": "https://localhost:8080/"
        },
        "id": "d7oufmC5EKD3",
        "outputId": "40acfa2c-099a-4f61-a171-9eeffc96e658"
      },
      "source": [
        "x.append(1)\n",
        "x"
      ],
      "execution_count": 48,
      "outputs": [
        {
          "output_type": "execute_result",
          "data": {
            "text/plain": [
              "[300, 1000, 'London', ('Old Street', 'London'), 1]"
            ]
          },
          "metadata": {},
          "execution_count": 48
        }
      ]
    },
    {
      "cell_type": "code",
      "metadata": {
        "colab": {
          "base_uri": "https://localhost:8080/"
        },
        "id": "EnPTaiwmEL3h",
        "outputId": "7976c631-26f9-4760-ba80-e09903563d47"
      },
      "source": [
        "x.pop()"
      ],
      "execution_count": 49,
      "outputs": [
        {
          "output_type": "execute_result",
          "data": {
            "text/plain": [
              "1"
            ]
          },
          "metadata": {},
          "execution_count": 49
        }
      ]
    },
    {
      "cell_type": "code",
      "metadata": {
        "colab": {
          "base_uri": "https://localhost:8080/"
        },
        "id": "Au2KvoWtEXTm",
        "outputId": "c2f34913-6c9f-4850-a41b-7ddc75763a9b"
      },
      "source": [
        "print(x)\n",
        "x.insert(0, 1) # insert at postn 0, the element 1\n",
        "\n",
        "print(x)"
      ],
      "execution_count": 50,
      "outputs": [
        {
          "output_type": "stream",
          "name": "stdout",
          "text": [
            "[300, 1000, 'London', ('Old Street', 'London')]\n",
            "[1, 300, 1000, 'London', ('Old Street', 'London')]\n"
          ]
        }
      ]
    },
    {
      "cell_type": "code",
      "metadata": {
        "id": "cwCgdisUEdVF"
      },
      "source": [
        "def error(y_pred, y, i):\n",
        "    return (y_pred - y[i]) ** 2"
      ],
      "execution_count": 54,
      "outputs": []
    },
    {
      "cell_type": "code",
      "metadata": {
        "colab": {
          "base_uri": "https://localhost:8080/"
        },
        "id": "605VIw8gEqQl",
        "outputId": "3b83f1d4-6674-4c10-c5e2-85219c31b15d"
      },
      "source": [
        "y = [2, 3, 5, 8]\n",
        "guess = 2.2\n",
        "\n",
        "error(guess, y, 1)   #   (2.2 - 3) ** 2"
      ],
      "execution_count": 55,
      "outputs": [
        {
          "output_type": "execute_result",
          "data": {
            "text/plain": [
              "0.6399999999999997"
            ]
          },
          "metadata": {},
          "execution_count": 55
        }
      ]
    },
    {
      "cell_type": "code",
      "metadata": {
        "colab": {
          "base_uri": "https://localhost:8080/"
        },
        "id": "n-407BIjEvx9",
        "outputId": "aa33218b-5c57-474b-d750-4c5c46695e38"
      },
      "source": [
        "user = {\n",
        "    \"name\": \"kofi\",\n",
        "    \"age\": 41,\n",
        "    \"location\": \"uk\"\n",
        "}\n",
        "\n",
        "print(user[\"name\"])     # use string keys to look up value rather than int index\n",
        "print(user[\"age\"])\n",
        "print(user[\"location\"])"
      ],
      "execution_count": 56,
      "outputs": [
        {
          "output_type": "stream",
          "name": "stdout",
          "text": [
            "kofi\n",
            "41\n",
            "uk\n"
          ]
        }
      ]
    },
    {
      "cell_type": "code",
      "metadata": {
        "colab": {
          "base_uri": "https://localhost:8080/",
          "height": 35
        },
        "id": "lKuVdWtEEyre",
        "outputId": "478686fc-747a-4887-80bf-817d96971c91"
      },
      "source": [
        "# data science example: labelling for Fraud|NotFraud\n",
        "# dict keys can be lots of diff. thigns, not just strings...\n",
        "# but must be unique!\n",
        "# key = (age, days-since-purchase-of-insurance)  \n",
        "user = {\n",
        "    (18, 13) : \"Fraud\",\n",
        "    (60, 300) : \"NotFraud\"\n",
        "}\n",
        "\n",
        "user[(18, 13)]"
      ],
      "execution_count": 57,
      "outputs": [
        {
          "output_type": "execute_result",
          "data": {
            "application/vnd.google.colaboratory.intrinsic+json": {
              "type": "string"
            },
            "text/plain": [
              "'Fraud'"
            ]
          },
          "metadata": {},
          "execution_count": 57
        }
      ]
    },
    {
      "cell_type": "code",
      "metadata": {
        "colab": {
          "base_uri": "https://localhost:8080/"
        },
        "id": "kXAE5DkuE3l-",
        "outputId": "9d720b77-2793-4e49-fa46-c5902fbc6330"
      },
      "source": [
        "# dictionaries more commonly are more like matrices...\n",
        "users = {\n",
        "    \"age-at-purchase\": [18, 60],\n",
        "    \"days-from-purcahse\": [13, 300]\n",
        "}\n",
        "\n",
        "ages = users['age-at-purchase']\n",
        "\n",
        "sum(ages)/len(ages)"
      ],
      "execution_count": 58,
      "outputs": [
        {
          "output_type": "execute_result",
          "data": {
            "text/plain": [
              "39.0"
            ]
          },
          "metadata": {},
          "execution_count": 58
        }
      ]
    },
    {
      "cell_type": "code",
      "metadata": {
        "colab": {
          "base_uri": "https://localhost:8080/"
        },
        "id": "U1ZFHZyGE8F6",
        "outputId": "02d607d0-e343-43dd-8657-49cf122a9063"
      },
      "source": [
        "user_age = 18\n",
        "\n",
        "if user_age > 65:                      # colons\n",
        "    print(\"See Retirement Plans\")      # indentation\n",
        "elif user_age > 21:                    # keyword, elif\n",
        "    print(\"See Vocation Plans\")\n",
        "elif user_age > 13:\n",
        "    print(\"See Education Plans\")\n",
        "else:\n",
        "    print(\"See your mother!\")"
      ],
      "execution_count": 59,
      "outputs": [
        {
          "output_type": "stream",
          "name": "stdout",
          "text": [
            "See Education Plans\n"
          ]
        }
      ]
    },
    {
      "cell_type": "code",
      "metadata": {
        "colab": {
          "base_uri": "https://localhost:8080/"
        },
        "id": "t5iLxcdKFBSy",
        "outputId": "49b09a33-5c8b-4eb7-f677-5f4f5252a706"
      },
      "source": [
        "# while loops are rare, usually bad -- repeating\n",
        "\n",
        "ratings = [5,5,6,7,8,1]\n",
        "\n",
        "while len(ratings) > 0:\n",
        "    print(ratings.pop())    # remove last one"
      ],
      "execution_count": 60,
      "outputs": [
        {
          "output_type": "stream",
          "name": "stdout",
          "text": [
            "1\n",
            "8\n",
            "7\n",
            "6\n",
            "5\n",
            "5\n"
          ]
        }
      ]
    },
    {
      "cell_type": "code",
      "metadata": {
        "colab": {
          "base_uri": "https://localhost:8080/"
        },
        "id": "QImSWoRYFGZP",
        "outputId": "7d4c9e11-214d-40e5-97c0-96dc273883e6"
      },
      "source": [
        "ratings"
      ],
      "execution_count": 61,
      "outputs": [
        {
          "output_type": "execute_result",
          "data": {
            "text/plain": [
              "[]"
            ]
          },
          "metadata": {},
          "execution_count": 61
        }
      ]
    },
    {
      "cell_type": "code",
      "metadata": {
        "colab": {
          "base_uri": "https://localhost:8080/"
        },
        "id": "N3SLg-BJFK4T",
        "outputId": "31da5878-8d6d-4322-f980-1eedd4781fb6"
      },
      "source": [
        "# for loop -- data processing loop\n",
        "\n",
        "ratings = [5,5,6,7,8,1]\n",
        "\n",
        "for element in ratings:      # for name-of-each-element  in source-data-input\n",
        "    print(element)           # algorithm for processing each-element\n",
        "    \n",
        "ratings"
      ],
      "execution_count": 62,
      "outputs": [
        {
          "output_type": "stream",
          "name": "stdout",
          "text": [
            "5\n",
            "5\n",
            "6\n",
            "7\n",
            "8\n",
            "1\n"
          ]
        },
        {
          "output_type": "execute_result",
          "data": {
            "text/plain": [
              "[5, 5, 6, 7, 8, 1]"
            ]
          },
          "metadata": {},
          "execution_count": 62
        }
      ]
    },
    {
      "cell_type": "code",
      "metadata": {
        "id": "sOfolLZBGbPN"
      },
      "source": [
        "hrs = [60, 70, 80]\n",
        "bps = [100, 200, 250]"
      ],
      "execution_count": 69,
      "outputs": []
    },
    {
      "cell_type": "code",
      "metadata": {
        "colab": {
          "base_uri": "https://localhost:8080/"
        },
        "id": "Fk090RKRGfFW",
        "outputId": "64140b7c-a604-4c1f-9715-6f42a5676344"
      },
      "source": [
        "bundled = list(zip(hrs, bps))\n",
        "bundled"
      ],
      "execution_count": 70,
      "outputs": [
        {
          "output_type": "execute_result",
          "data": {
            "text/plain": [
              "[(60, 100), (70, 200), (80, 250)]"
            ]
          },
          "metadata": {},
          "execution_count": 70
        }
      ]
    },
    {
      "cell_type": "code",
      "metadata": {
        "colab": {
          "base_uri": "https://localhost:8080/"
        },
        "id": "G3QCkTXDGjoW",
        "outputId": "5aa629b6-2813-469e-c078-7525ed75bc2d"
      },
      "source": [
        "for hr, bp in zip(hrs, bps):\n",
        "    print(hr, bp)"
      ],
      "execution_count": 71,
      "outputs": [
        {
          "output_type": "stream",
          "name": "stdout",
          "text": [
            "60 100\n",
            "70 200\n",
            "80 250\n"
          ]
        }
      ]
    },
    {
      "cell_type": "code",
      "metadata": {
        "colab": {
          "base_uri": "https://localhost:8080/"
        },
        "id": "kmgd1N31GoO1",
        "outputId": "ab50942d-e0f2-43b9-bdd3-22bbcc204e62"
      },
      "source": [
        "for hr, bp in zip(hrs, bps):\n",
        "    print(\"We measured: \", hr, \"bpm\")\n",
        "    print(\"We measured: \", bp, \"mmHg\")\n",
        "    \n",
        "    if (hr > 200) or (bp > 200):\n",
        "        print(\"WARNING\")\n",
        "    else:\n",
        "        print(\"OK\")\n",
        "        \n",
        "    print() # prints an empty line"
      ],
      "execution_count": 72,
      "outputs": [
        {
          "output_type": "stream",
          "name": "stdout",
          "text": [
            "We measured:  60 bpm\n",
            "We measured:  100 mmHg\n",
            "OK\n",
            "\n",
            "We measured:  70 bpm\n",
            "We measured:  200 mmHg\n",
            "OK\n",
            "\n",
            "We measured:  80 bpm\n",
            "We measured:  250 mmHg\n",
            "WARNING\n",
            "\n"
          ]
        }
      ]
    },
    {
      "cell_type": "code",
      "metadata": {
        "colab": {
          "base_uri": "https://localhost:8080/"
        },
        "id": "2T3T-DdyGx3D",
        "outputId": "dd74db61-3acc-49a8-edab-359c3e1ea019"
      },
      "source": [
        "list(range(0, 100, 20))"
      ],
      "execution_count": 73,
      "outputs": [
        {
          "output_type": "execute_result",
          "data": {
            "text/plain": [
              "[0, 20, 40, 60, 80]"
            ]
          },
          "metadata": {},
          "execution_count": 73
        }
      ]
    },
    {
      "cell_type": "code",
      "metadata": {
        "colab": {
          "base_uri": "https://localhost:8080/"
        },
        "id": "qhRXKvy-G03o",
        "outputId": "f50f23f5-b67f-410d-d4a8-54c71889958c"
      },
      "source": [
        "for i in range(0, 100, 20):\n",
        "    print(i)"
      ],
      "execution_count": 74,
      "outputs": [
        {
          "output_type": "stream",
          "name": "stdout",
          "text": [
            "0\n",
            "20\n",
            "40\n",
            "60\n",
            "80\n"
          ]
        }
      ]
    },
    {
      "cell_type": "code",
      "metadata": {
        "colab": {
          "base_uri": "https://localhost:8080/"
        },
        "id": "v0haX3qOG51h",
        "outputId": "9fe64350-0394-49f7-e506-ff109f32950c"
      },
      "source": [
        "predicted_hr = []\n",
        "\n",
        "for hr in range(60, 180, 10):\n",
        "    predicted_hr.append(0.9 * hr + 1)\n",
        "    \n",
        "predicted_hr"
      ],
      "execution_count": 75,
      "outputs": [
        {
          "output_type": "execute_result",
          "data": {
            "text/plain": [
              "[55.0, 64.0, 73.0, 82.0, 91.0, 100.0, 109.0, 118.0, 127.0, 136.0, 145.0, 154.0]"
            ]
          },
          "metadata": {},
          "execution_count": 75
        }
      ]
    },
    {
      "cell_type": "code",
      "metadata": {
        "colab": {
          "base_uri": "https://localhost:8080/",
          "height": 181
        },
        "id": "bMy-YJsYG-Qn",
        "outputId": "ce0540f2-c210-4fcc-9e83-65f4a505802e"
      },
      "source": [
        "for hr in hr_readings:\n",
        "    print(hr)"
      ],
      "execution_count": 76,
      "outputs": [
        {
          "output_type": "error",
          "ename": "NameError",
          "evalue": "ignored",
          "traceback": [
            "\u001b[0;31m---------------------------------------------------------------------------\u001b[0m",
            "\u001b[0;31mNameError\u001b[0m                                 Traceback (most recent call last)",
            "\u001b[0;32m<ipython-input-76-fc43b3498e03>\u001b[0m in \u001b[0;36m<module>\u001b[0;34m()\u001b[0m\n\u001b[0;32m----> 1\u001b[0;31m \u001b[0;32mfor\u001b[0m \u001b[0mhr\u001b[0m \u001b[0;32min\u001b[0m \u001b[0mhr_readings\u001b[0m\u001b[0;34m:\u001b[0m\u001b[0;34m\u001b[0m\u001b[0;34m\u001b[0m\u001b[0m\n\u001b[0m\u001b[1;32m      2\u001b[0m     \u001b[0mprint\u001b[0m\u001b[0;34m(\u001b[0m\u001b[0mhr\u001b[0m\u001b[0;34m)\u001b[0m\u001b[0;34m\u001b[0m\u001b[0;34m\u001b[0m\u001b[0m\n",
            "\u001b[0;31mNameError\u001b[0m: name 'hr_readings' is not defined"
          ]
        }
      ]
    },
    {
      "cell_type": "code",
      "metadata": {
        "colab": {
          "base_uri": "https://localhost:8080/"
        },
        "id": "Hh7sLC8GHPGa",
        "outputId": "7c06a439-324e-4450-efc1-59b03d9484a9"
      },
      "source": [
        "# iterators -- like data structures, but whole data not stored...\n",
        "\n",
        "ten = range(0, 10)\n",
        "\n",
        "print(ten)"
      ],
      "execution_count": 77,
      "outputs": [
        {
          "output_type": "stream",
          "name": "stdout",
          "text": [
            "range(0, 10)\n"
          ]
        }
      ]
    },
    {
      "cell_type": "code",
      "metadata": {
        "colab": {
          "base_uri": "https://localhost:8080/"
        },
        "id": "IoDA02nxHTka",
        "outputId": "394811db-e1f1-4b6d-b391-e8e7dbb9acef"
      },
      "source": [
        "for i in ten:      # the range gives a number each go around\n",
        "    print(i)"
      ],
      "execution_count": 78,
      "outputs": [
        {
          "output_type": "stream",
          "name": "stdout",
          "text": [
            "0\n",
            "1\n",
            "2\n",
            "3\n",
            "4\n",
            "5\n",
            "6\n",
            "7\n",
            "8\n",
            "9\n"
          ]
        }
      ]
    },
    {
      "cell_type": "code",
      "metadata": {
        "colab": {
          "base_uri": "https://localhost:8080/"
        },
        "id": "qOVlm7TVHY9b",
        "outputId": "50381160-005f-49a9-9482-6e81f2dbdd5b"
      },
      "source": [
        "numbers = list(ten) # collects all data from ten into list, which stores all in memory\n",
        "\n",
        "numbers"
      ],
      "execution_count": 79,
      "outputs": [
        {
          "output_type": "execute_result",
          "data": {
            "text/plain": [
              "[0, 1, 2, 3, 4, 5, 6, 7, 8, 9]"
            ]
          },
          "metadata": {},
          "execution_count": 79
        }
      ]
    },
    {
      "cell_type": "code",
      "metadata": {
        "colab": {
          "base_uri": "https://localhost:8080/"
        },
        "id": "Fp2dYS4ZHgZw",
        "outputId": "32604753-6735-4cdb-bf3e-ade831fa27fc"
      },
      "source": [
        "int(age) < 20"
      ],
      "execution_count": 81,
      "outputs": [
        {
          "output_type": "execute_result",
          "data": {
            "text/plain": [
              "True"
            ]
          },
          "metadata": {},
          "execution_count": 81
        }
      ]
    },
    {
      "cell_type": "code",
      "metadata": {
        "colab": {
          "base_uri": "https://localhost:8080/",
          "height": 35
        },
        "id": "nz91cnIkHk1W",
        "outputId": "fb9df29f-ce8a-4ef7-fc2b-4e420f2bdc97"
      },
      "source": [
        "str(5) * 2  # \"5\" * 2"
      ],
      "execution_count": 82,
      "outputs": [
        {
          "output_type": "execute_result",
          "data": {
            "application/vnd.google.colaboratory.intrinsic+json": {
              "type": "string"
            },
            "text/plain": [
              "'55'"
            ]
          },
          "metadata": {},
          "execution_count": 82
        }
      ]
    },
    {
      "cell_type": "code",
      "metadata": {
        "colab": {
          "base_uri": "https://localhost:8080/"
        },
        "id": "E6eSyFQMHpre",
        "outputId": "9313ff56-4e69-4687-b6c6-0a5e2ed375e4"
      },
      "source": [
        "dict( [ (\"name\", \"Michael\"), (\"age\", 29 )])"
      ],
      "execution_count": 83,
      "outputs": [
        {
          "output_type": "execute_result",
          "data": {
            "text/plain": [
              "{'age': 29, 'name': 'Michael'}"
            ]
          },
          "metadata": {},
          "execution_count": 83
        }
      ]
    }
  ]
}
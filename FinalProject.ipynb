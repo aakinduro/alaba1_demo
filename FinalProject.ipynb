{
  "nbformat": 4,
  "nbformat_minor": 0,
  "metadata": {
    "colab": {
      "name": "FinalProject.ipynb",
      "provenance": [],
      "authorship_tag": "ABX9TyOaq2uwSYzLEzSGr+x1LVw2",
      "include_colab_link": true
    },
    "kernelspec": {
      "name": "python3",
      "display_name": "Python 3"
    },
    "language_info": {
      "name": "python"
    }
  },
  "cells": [
    {
      "cell_type": "markdown",
      "metadata": {
        "id": "view-in-github",
        "colab_type": "text"
      },
      "source": [
        "<a href=\"https://colab.research.google.com/github/aakinduro/alaba1_demo/blob/main/FinalProject.ipynb\" target=\"_parent\"><img src=\"https://colab.research.google.com/assets/colab-badge.svg\" alt=\"Open In Colab\"/></a>"
      ]
    },
    {
      "cell_type": "code",
      "metadata": {
        "colab": {
          "base_uri": "https://localhost:8080/"
        },
        "id": "e4GwfCrcBOcB",
        "outputId": "72039e72-d2ea-41d8-ca55-a832e20651f5"
      },
      "source": [
        "!brew install azureml/core\n",
        "# Regression or Classification\n",
        "# Explain your columns, the ML equation you may want to build\n",
        "# In our dataset of blahblah.csv, we have following discrete, and continuous columns:\n",
        "# C1....\n",
        "# we are trying to form an equation\n",
        "# y' = w1* C1 + w2* C2 .... +bias \n",
        "# one-paragraph explaning what you are trying to predict based\n",
        "# on equation above "
      ],
      "execution_count": 11,
      "outputs": [
        {
          "output_type": "stream",
          "name": "stdout",
          "text": [
            "/bin/bash: brew: command not found\n"
          ]
        }
      ]
    }
  ]
}
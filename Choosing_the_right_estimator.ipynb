{
  "nbformat": 4,
  "nbformat_minor": 0,
  "metadata": {
    "kernelspec": {
      "display_name": "Python 3",
      "language": "python",
      "name": "python3"
    },
    "language_info": {
      "codemirror_mode": {
        "name": "ipython",
        "version": 3
      },
      "file_extension": ".py",
      "mimetype": "text/x-python",
      "name": "python",
      "nbconvert_exporter": "python",
      "pygments_lexer": "ipython3",
      "version": "3.7.4"
    },
    "colab": {
      "name": "Choosing the right estimator.ipynb",
      "provenance": [],
      "include_colab_link": true
    }
  },
  "cells": [
    {
      "cell_type": "markdown",
      "metadata": {
        "id": "view-in-github",
        "colab_type": "text"
      },
      "source": [
        "<a href=\"https://colab.research.google.com/github/aakinduro/alaba1_demo/blob/main/Choosing_the_right_estimator.ipynb\" target=\"_parent\"><img src=\"https://colab.research.google.com/assets/colab-badge.svg\" alt=\"Open In Colab\"/></a>"
      ]
    },
    {
      "cell_type": "markdown",
      "metadata": {
        "id": "9LSAVpZ1mUa7"
      },
      "source": [
        "# Practical Machine Learning \n",
        "### Project: Model Selection"
      ]
    },
    {
      "cell_type": "markdown",
      "metadata": {
        "id": "H7UVonummUbD"
      },
      "source": [
        "# Abstract"
      ]
    },
    {
      "cell_type": "markdown",
      "metadata": {
        "id": "CPTmXNq3mUbE"
      },
      "source": [
        "# Part 1: Business and Data Understanding"
      ]
    },
    {
      "cell_type": "markdown",
      "metadata": {
        "id": "JaQos8L2mUbF"
      },
      "source": [
        "### Q. Define the problem domain"
      ]
    },
    {
      "cell_type": "code",
      "metadata": {
        "id": "9OjVFKAAmUbG",
        "outputId": "f95fab1c-28c4-4ca0-bd01-0e47ed248e89",
        "colab": {
          "base_uri": "https://localhost:8080/"
        }
      },
      "source": [
        "!pip install azureml.core\n",
        "!pip install azureml.core\n",
        "\n",
        "The problem domain is Regression; the values are continuous\n",
        "\n",
        "The columns are made of up fields that describe attributes. \n",
        "The machine learning equation we are trying to build is y = mx + c\n",
        "We will be predicing the price based on the above equation. \n",
        "I will be using an Automobile price dataset and it has 206 rows and 26 continuous colums:\n"
      ],
      "execution_count": 3,
      "outputs": [
        {
          "output_type": "stream",
          "name": "stdout",
          "text": [
            "Requirement already satisfied: azureml.core in /usr/local/lib/python3.7/dist-packages (1.36.0.post2)\n",
            "Requirement already satisfied: contextlib2<22.0.0 in /usr/local/lib/python3.7/dist-packages (from azureml.core) (0.5.5)\n",
            "Requirement already satisfied: msrest<1.0.0,>=0.5.1 in /usr/local/lib/python3.7/dist-packages (from azureml.core) (0.6.21)\n",
            "Requirement already satisfied: jsonpickle<3.0.0 in /usr/local/lib/python3.7/dist-packages (from azureml.core) (2.0.0)\n",
            "Requirement already satisfied: azure-mgmt-storage<16.0.0,>=1.5.0 in /usr/local/lib/python3.7/dist-packages (from azureml.core) (11.2.0)\n",
            "Requirement already satisfied: pytz in /usr/local/lib/python3.7/dist-packages (from azureml.core) (2018.9)\n",
            "Requirement already satisfied: azure-mgmt-keyvault<10.0.0,>=0.40.0 in /usr/local/lib/python3.7/dist-packages (from azureml.core) (9.3.0)\n",
            "Requirement already satisfied: pyopenssl<21.0.0 in /usr/local/lib/python3.7/dist-packages (from azureml.core) (20.0.1)\n",
            "Requirement already satisfied: azure-mgmt-resource<15.0.0,>=1.2.1 in /usr/local/lib/python3.7/dist-packages (from azureml.core) (13.0.0)\n",
            "Requirement already satisfied: azure-common<2.0.0,>=1.1.12 in /usr/local/lib/python3.7/dist-packages (from azureml.core) (1.1.27)\n",
            "Requirement already satisfied: urllib3<=1.26.7,>=1.23 in /usr/local/lib/python3.7/dist-packages (from azureml.core) (1.24.3)\n",
            "Requirement already satisfied: SecretStorage<4.0.0 in /usr/local/lib/python3.7/dist-packages (from azureml.core) (3.3.1)\n",
            "Requirement already satisfied: jmespath<1.0.0 in /usr/local/lib/python3.7/dist-packages (from azureml.core) (0.10.0)\n",
            "Requirement already satisfied: ndg-httpsclient<=0.5.1 in /usr/local/lib/python3.7/dist-packages (from azureml.core) (0.5.1)\n",
            "Requirement already satisfied: requests<3.0.0,>=2.19.1 in /usr/local/lib/python3.7/dist-packages (from azureml.core) (2.23.0)\n",
            "Requirement already satisfied: adal<=1.2.7,>=1.2.0 in /usr/local/lib/python3.7/dist-packages (from azureml.core) (1.2.7)\n",
            "Requirement already satisfied: pathspec<1.0.0 in /usr/local/lib/python3.7/dist-packages (from azureml.core) (0.9.0)\n",
            "Requirement already satisfied: cryptography!=1.9,!=2.0.*,!=2.1.*,!=2.2.*,<4.0.0 in /usr/local/lib/python3.7/dist-packages (from azureml.core) (3.4.8)\n",
            "Requirement already satisfied: backports.tempfile in /usr/local/lib/python3.7/dist-packages (from azureml.core) (1.0)\n",
            "Requirement already satisfied: azure-graphrbac<1.0.0,>=0.40.0 in /usr/local/lib/python3.7/dist-packages (from azureml.core) (0.61.1)\n",
            "Requirement already satisfied: azure-mgmt-authorization<1.0.0,>=0.40.0 in /usr/local/lib/python3.7/dist-packages (from azureml.core) (0.61.0)\n",
            "Requirement already satisfied: docker<6.0.0 in /usr/local/lib/python3.7/dist-packages (from azureml.core) (5.0.3)\n",
            "Requirement already satisfied: azure-mgmt-containerregistry>=2.0.0 in /usr/local/lib/python3.7/dist-packages (from azureml.core) (8.2.0)\n",
            "Requirement already satisfied: msrestazure<=0.6.4,>=0.4.33 in /usr/local/lib/python3.7/dist-packages (from azureml.core) (0.6.4)\n",
            "Requirement already satisfied: PyJWT<3.0.0 in /usr/local/lib/python3.7/dist-packages (from azureml.core) (2.3.0)\n",
            "Requirement already satisfied: python-dateutil<3.0.0,>=2.7.3 in /usr/local/lib/python3.7/dist-packages (from azureml.core) (2.8.2)\n",
            "Requirement already satisfied: azure-mgmt-core<2.0.0,>=1.2.0 in /usr/local/lib/python3.7/dist-packages (from azure-mgmt-containerregistry>=2.0.0->azureml.core) (1.3.0)\n",
            "Requirement already satisfied: azure-core<2.0.0,>=1.15.0 in /usr/local/lib/python3.7/dist-packages (from azure-mgmt-core<2.0.0,>=1.2.0->azure-mgmt-containerregistry>=2.0.0->azureml.core) (1.21.0)\n",
            "Requirement already satisfied: six>=1.11.0 in /usr/local/lib/python3.7/dist-packages (from azure-core<2.0.0,>=1.15.0->azure-mgmt-core<2.0.0,>=1.2.0->azure-mgmt-containerregistry>=2.0.0->azureml.core) (1.15.0)\n",
            "Requirement already satisfied: cffi>=1.12 in /usr/local/lib/python3.7/dist-packages (from cryptography!=1.9,!=2.0.*,!=2.1.*,!=2.2.*,<4.0.0->azureml.core) (1.15.0)\n",
            "Requirement already satisfied: pycparser in /usr/local/lib/python3.7/dist-packages (from cffi>=1.12->cryptography!=1.9,!=2.0.*,!=2.1.*,!=2.2.*,<4.0.0->azureml.core) (2.21)\n",
            "Requirement already satisfied: websocket-client>=0.32.0 in /usr/local/lib/python3.7/dist-packages (from docker<6.0.0->azureml.core) (1.2.1)\n",
            "Requirement already satisfied: importlib-metadata in /usr/local/lib/python3.7/dist-packages (from jsonpickle<3.0.0->azureml.core) (4.8.2)\n",
            "Requirement already satisfied: certifi>=2017.4.17 in /usr/local/lib/python3.7/dist-packages (from msrest<1.0.0,>=0.5.1->azureml.core) (2021.10.8)\n",
            "Requirement already satisfied: isodate>=0.6.0 in /usr/local/lib/python3.7/dist-packages (from msrest<1.0.0,>=0.5.1->azureml.core) (0.6.0)\n",
            "Requirement already satisfied: requests-oauthlib>=0.5.0 in /usr/local/lib/python3.7/dist-packages (from msrest<1.0.0,>=0.5.1->azureml.core) (1.3.0)\n",
            "Requirement already satisfied: pyasn1>=0.1.1 in /usr/local/lib/python3.7/dist-packages (from ndg-httpsclient<=0.5.1->azureml.core) (0.4.8)\n",
            "Requirement already satisfied: idna<3,>=2.5 in /usr/local/lib/python3.7/dist-packages (from requests<3.0.0,>=2.19.1->azureml.core) (2.10)\n",
            "Requirement already satisfied: chardet<4,>=3.0.2 in /usr/local/lib/python3.7/dist-packages (from requests<3.0.0,>=2.19.1->azureml.core) (3.0.4)\n",
            "Requirement already satisfied: oauthlib>=3.0.0 in /usr/local/lib/python3.7/dist-packages (from requests-oauthlib>=0.5.0->msrest<1.0.0,>=0.5.1->azureml.core) (3.1.1)\n",
            "Requirement already satisfied: jeepney>=0.6 in /usr/local/lib/python3.7/dist-packages (from SecretStorage<4.0.0->azureml.core) (0.7.1)\n",
            "Requirement already satisfied: backports.weakref in /usr/local/lib/python3.7/dist-packages (from backports.tempfile->azureml.core) (1.0.post1)\n",
            "Requirement already satisfied: typing-extensions>=3.6.4 in /usr/local/lib/python3.7/dist-packages (from importlib-metadata->jsonpickle<3.0.0->azureml.core) (3.10.0.2)\n",
            "Requirement already satisfied: zipp>=0.5 in /usr/local/lib/python3.7/dist-packages (from importlib-metadata->jsonpickle<3.0.0->azureml.core) (3.6.0)\n"
          ]
        }
      ]
    },
    {
      "cell_type": "markdown",
      "metadata": {
        "id": "x-oEdI1MmUbH"
      },
      "source": [
        "### Q. Identify candidate questions for your machine learning project"
      ]
    },
    {
      "cell_type": "code",
      "metadata": {
        "id": "Te9wP3lgmUbI"
      },
      "source": [
        "# Register the dataset in Azure\n",
        "# GO to Consume tab in dataset \n",
        "# copy paste the PYTHON code to consume data\n",
        "\n",
        "# value_counts() -> discrete or continuous values"
      ],
      "execution_count": null,
      "outputs": []
    },
    {
      "cell_type": "markdown",
      "metadata": {
        "id": "4QyxtqnDmUbJ"
      },
      "source": [
        "### Q. Identify a suitable dataset for your canditate question(s)"
      ]
    },
    {
      "cell_type": "markdown",
      "metadata": {
        "id": "7dekV-uCmUbK"
      },
      "source": [
        "Go have a look at any of these websites:\n",
        "\n",
        "* https://www.kaggle.com/datasets \n",
        "* https://datasetsearch.research.google.com/\n",
        "* https://data.gov.uk/\n",
        "\n",
        "Find an interesting looking data set related to your problem domain and get a copy of it\n"
      ]
    },
    {
      "cell_type": "code",
      "metadata": {
        "id": "0_G4wwj2mUbL",
        "outputId": "a6609d56-21df-47fb-f37d-655b8dabdc49",
        "colab": {
          "base_uri": "https://localhost:8080/",
          "height": 131
        }
      },
      "source": [
        "import pandas as pd\n",
        "import numpy as np\n",
        "\n",
        "for cname in dataset.columns:\n",
        "  unique_values = dataset [price]-value_counts()#unique_value_counter\n",
        "  unique_value_counted = unique_values.count()\n",
        "  print(cname - ' : ' - str[unique_values_counted]"
      ],
      "execution_count": 5,
      "outputs": [
        {
          "output_type": "error",
          "ename": "SyntaxError",
          "evalue": "ignored",
          "traceback": [
            "\u001b[0;36m  File \u001b[0;32m\"<ipython-input-5-1f31be7f9466>\"\u001b[0;36m, line \u001b[0;32m7\u001b[0m\n\u001b[0;31m    print(cname - ' : ' - str[unique_values_counted]\u001b[0m\n\u001b[0m                                                    ^\u001b[0m\n\u001b[0;31mSyntaxError\u001b[0m\u001b[0;31m:\u001b[0m unexpected EOF while parsing\n"
          ]
        }
      ]
    },
    {
      "cell_type": "markdown",
      "metadata": {
        "id": "-blA_nRrmUbM"
      },
      "source": [
        "### Q. Generate a descriptive statistics report for the columns in your dataset"
      ]
    },
    {
      "cell_type": "code",
      "metadata": {
        "id": "qJpAspkemUbM"
      },
      "source": [
        "# data.describe() \n",
        "# 2-3 sentences-> Quartile ranges, mean, median and mode\n",
        "# standard deviation \n",
        "\n",
        "# outliers \n",
        "# null values"
      ],
      "execution_count": null,
      "outputs": []
    },
    {
      "cell_type": "markdown",
      "metadata": {
        "id": "YIYvURUxmUbN"
      },
      "source": [
        "# Part 2: Data Preparation"
      ]
    },
    {
      "cell_type": "markdown",
      "metadata": {
        "id": "nuQhS9IbmUbO"
      },
      "source": [
        "### Q. Discuss the following types of missing data and how they would be handled in reference to your dataset where applicable.\n",
        "*\tMissing completely at random (MCAR)\n",
        "*\tMissing at random (MAR)\n",
        "*\tMissing Not at Random (MNAR)"
      ]
    },
    {
      "cell_type": "code",
      "metadata": {
        "id": "ECqqe_mJmUbQ"
      },
      "source": [
        "# missing values-> try to identify as one of the above type\n",
        "# how would you handle missing data\n",
        "# would you drop it? would you replace it? if replace, with what?"
      ],
      "execution_count": null,
      "outputs": []
    },
    {
      "cell_type": "markdown",
      "metadata": {
        "id": "DJbvBsismUbR"
      },
      "source": [
        "# Part 3: Model Selection"
      ]
    },
    {
      "cell_type": "markdown",
      "metadata": {
        "id": "u1N4nDOXmUbR"
      },
      "source": [
        "### Q. Use the cheat sheet below to choose the algorithm/estimator suitable for building a model to address your candidate question(s)\n",
        "\n",
        "* https://scikit-learn.org/stable/tutorial/machine_learning_map/"
      ]
    },
    {
      "cell_type": "markdown",
      "metadata": {
        "id": "5fIzi-oVmUbS"
      },
      "source": [
        "PLEASE USE ABOVE LINK if working in Python\n",
        "\n",
        "ELSE paste screenshots of AutoML and/or ML Pipelines here for problem statement "
      ]
    },
    {
      "cell_type": "markdown",
      "metadata": {
        "id": "rM78AFYUmUbT"
      },
      "source": [
        "# Part 4: Model Evaluation"
      ]
    },
    {
      "cell_type": "markdown",
      "metadata": {
        "id": "T-3PAX35t3eg"
      },
      "source": [
        "Upload the metrics screenshots/ or python code to evaluate models (metrics)- \n",
        "\n",
        "Classification- F1 Score, Precision, Recall, Accuracy, Confusion Matrix \n",
        "\n",
        "Regression - Mean Absolute Error, Mean Squared error, Normalized MSE, Coefficient of Deter. \n",
        "\n",
        "Experiments in Azure!"
      ]
    },
    {
      "cell_type": "markdown",
      "metadata": {
        "id": "hxuo0N89mUbU"
      },
      "source": [
        "### Q. Identify which of the statistical measures below are suitable for the evaluation of your model.\n",
        "\n",
        "Classification Metrics:\n",
        "* Accuracy\n",
        "* Precision\n",
        "* Recall\n",
        "* F1 Score\n",
        "\n",
        "Regression Metrics:\n",
        "    \n",
        "* Mean absolute error (MAE)\n",
        "* Root mean squared error (RMSE)\n",
        "* Relative absolute error (RAE)\n",
        "* Relative squared error (RSE)\n",
        "* Mean Zero One Error (MZOE)\n",
        "* Coefficient of determination\n",
        "\n",
        " "
      ]
    },
    {
      "cell_type": "code",
      "metadata": {
        "id": "Enbhi_VWmUbV"
      },
      "source": [
        ""
      ],
      "execution_count": null,
      "outputs": []
    },
    {
      "cell_type": "markdown",
      "metadata": {
        "id": "IkmLqzeHmUbV"
      },
      "source": [
        "# Part 5: Stretch - Model Deployment"
      ]
    },
    {
      "cell_type": "code",
      "metadata": {
        "id": "ZSTqF86RmUbV"
      },
      "source": [
        "# EIther in Azure Container Instance \n",
        "# in Azure Kubernetes Service "
      ],
      "execution_count": null,
      "outputs": []
    }
  ]
}